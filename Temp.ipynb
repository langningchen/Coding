{
 "cells": [
  {
   "cell_type": "code",
   "execution_count": null,
   "metadata": {
    "vscode": {
     "languageId": "cpp"
    }
   },
   "outputs": [],
   "source": [
    "#include <bits/stdc++.h>\n",
    "using namespace std;\n",
    "typedef long long ll;\n",
    "typedef long double ld;\n",
    "typedef unsigned long long ull;"
   ]
  },
  {
   "cell_type": "markdown",
   "metadata": {},
   "source": [
    "# Hello world 测试"
   ]
  },
  {
   "cell_type": "code",
   "execution_count": null,
   "metadata": {
    "vscode": {
     "languageId": "cpp"
    }
   },
   "outputs": [
    {
     "name": "stdout",
     "output_type": "stream",
     "text": [
      "Hello world\n"
     ]
    }
   ],
   "source": [
    "cout << \"Hello world\" << endl;"
   ]
  },
  {
   "cell_type": "markdown",
   "metadata": {},
   "source": [
    "# log10\n",
    "`log10(x + 1)`可以计算`x`的位数"
   ]
  },
  {
   "cell_type": "code",
   "execution_count": null,
   "metadata": {
    "vscode": {
     "languageId": "cpp"
    }
   },
   "outputs": [
    {
     "name": "stdout",
     "output_type": "stream",
     "text": [
      "2\n"
     ]
    }
   ],
   "source": [
    "int n = 27;\n",
    "cout << ceil(log10(n + 1)) << endl;"
   ]
  },
  {
   "cell_type": "markdown",
   "metadata": {},
   "source": [
    "# Repeat\n",
    "`Repeat`可以重复字符串"
   ]
  },
  {
   "cell_type": "code",
   "execution_count": null,
   "metadata": {
    "vscode": {
     "languageId": "cpp"
    }
   },
   "outputs": [],
   "source": [
    "string Repeat(string Data, int Times)\n",
    "{\n",
    "    string Output = \"\";\n",
    "    for (int i = 0; i < Times; i++)\n",
    "        Output += Data;\n",
    "    return Output;\n",
    "}"
   ]
  },
  {
   "cell_type": "code",
   "execution_count": null,
   "metadata": {
    "vscode": {
     "languageId": "cpp"
    }
   },
   "outputs": [
    {
     "name": "stdout",
     "output_type": "stream",
     "text": [
      "HelloHelloHelloHelloHello\n"
     ]
    }
   ],
   "source": [
    "cout << Repeat(\"Hello\", 5) << endl;"
   ]
  },
  {
   "attachments": {},
   "cell_type": "markdown",
   "metadata": {},
   "source": [
    "##  树"
   ]
  },
  {
   "cell_type": "code",
   "execution_count": 26,
   "metadata": {
    "vscode": {
     "languageId": "c++"
    }
   },
   "outputs": [],
   "source": [
    "#include <bits/stdc++.h>\n",
    "using namespace std;\n",
    "typedef long long ll;\n",
    "typedef long double ld;\n",
    "typedef unsigned long long ull;\n",
    "const int MAXN = 100;\n",
    "const int MAXLOG = 20;"
   ]
  },
  {
   "attachments": {},
   "cell_type": "markdown",
   "metadata": {},
   "source": [
    "### 树的存储"
   ]
  },
  {
   "attachments": {},
   "cell_type": "markdown",
   "metadata": {},
   "source": [
    "- 双亲表示法"
   ]
  },
  {
   "cell_type": "code",
   "execution_count": 27,
   "metadata": {
    "vscode": {
     "languageId": "c++"
    }
   },
   "outputs": [],
   "source": [
    "int fa[MAXN], hd[MAXN], to[MAXN], nxt[MAXN], tot, id, s[MAXN], e[MAXN], dfs_seq[MAXN], id2, euler_seq[MAXN], dep[MAXN], anc[MAXN][MAXLOG];"
   ]
  },
  {
   "cell_type": "code",
   "execution_count": 28,
   "metadata": {
    "vscode": {
     "languageId": "c++"
    }
   },
   "outputs": [],
   "source": [
    "void link(int father, int son) {\n",
    "    fa[son] = father;\n",
    "}"
   ]
  },
  {
   "attachments": {},
   "cell_type": "markdown",
   "metadata": {},
   "source": [
    "- 图存储法: 链式前向星"
   ]
  },
  {
   "cell_type": "code",
   "execution_count": 29,
   "metadata": {
    "vscode": {
     "languageId": "c++"
    }
   },
   "outputs": [],
   "source": [
    "void link(int father, int son) {\n",
    "    fa[son] = father;\n",
    "    ++tot;\n",
    "    to[tot] = son;\n",
    "    nxt[tot] = hd[father];\n",
    "    hd[father] = tot;\n",
    "}"
   ]
  },
  {
   "attachments": {},
   "cell_type": "markdown",
   "metadata": {},
   "source": [
    "#### 树的深度优先遍历"
   ]
  },
  {
   "cell_type": "code",
   "execution_count": 30,
   "metadata": {
    "vscode": {
     "languageId": "c++"
    }
   },
   "outputs": [],
   "source": [
    "void dfs(int x, int f) {\n",
    "    fa[x] = f;\n",
    "    dep[x] = dep[f] + 1;\n",
    "    s[x] = ++id;\n",
    "    dfs_seq[id] = x;\n",
    "    euler_seq[++id2] = x;\n",
    "    anc[x][0] = f;\n",
    "    for (int i = 1; i <= MAXLOG; ++i) \n",
    "        anc[x][i] = anc[anc[x][i - 1]][i - 1];\n",
    "    for (int i = hd[x]; i; i = nxt[i]) \n",
    "        if (to[i] != f) {\n",
    "            dfs(to[i], x);\n",
    "            euler_seq[++id2] = x;\n",
    "        }\n",
    "    e[x] = id;\n",
    "}"
   ]
  },
  {
   "attachments": {},
   "cell_type": "markdown",
   "metadata": {},
   "source": [
    "$e_x-s_x=sz_x$"
   ]
  },
  {
   "attachments": {},
   "cell_type": "markdown",
   "metadata": {},
   "source": [
    "#### 最近公共祖先 `LCA`"
   ]
  },
  {
   "attachments": {},
   "cell_type": "markdown",
   "metadata": {},
   "source": [
    "##### 朴素算法 $O(n)$"
   ]
  },
  {
   "cell_type": "code",
   "execution_count": 31,
   "metadata": {
    "vscode": {
     "languageId": "c++"
    }
   },
   "outputs": [],
   "source": [
    "int lca(int x, int y) {\n",
    "    while (x != y) {\n",
    "        if (dep[x] >= dep[y]) x = fa[x];\n",
    "        else y = fa[y];\n",
    "    }\n",
    "    return x;\n",
    "}"
   ]
  },
  {
   "attachments": {},
   "cell_type": "markdown",
   "metadata": {},
   "source": [
    "##### 倍增算法 $O(n\\log n)$"
   ]
  },
  {
   "cell_type": "code",
   "execution_count": 25,
   "metadata": {
    "vscode": {
     "languageId": "c++"
    }
   },
   "outputs": [],
   "source": [
    "int lca(int x, int y) {\n",
    "    if (dep[x] < dep[y]) swap(x, y);\n",
    "    for (int i = MAXLOG - 1; i >= 0; i--)\n",
    "        if (dep[anc[x][i]] >= dep[y]) \n",
    "            x = anc[x][i];\n",
    "    if (x == y) return x;\n",
    "    for (int i = MAXLOG - 1; i >= 0; i--)\n",
    "        if (anc[x][i] != anc[y][i])\n",
    "            x = anc[x][i], y = anc[y][i];\n",
    "    return anc[x][0];\n",
    "}"
   ]
  },
  {
   "attachments": {},
   "cell_type": "markdown",
   "metadata": {},
   "source": [
    "### 二叉平衡(搜索)树"
   ]
  },
  {
   "attachments": {},
   "cell_type": "markdown",
   "metadata": {},
   "source": [
    "### Treap"
   ]
  },
  {
   "attachments": {},
   "cell_type": "markdown",
   "metadata": {},
   "source": [
    "- `v` 值\n",
    "- `w` 权重——随机数\n",
    "- `t` 相同的值的数量\n",
    "- `s` 子树的数字总数\n",
    "- `lc` 左子树下标\n",
    "- `rc` 右子树下标"
   ]
  },
  {
   "cell_type": "code",
   "execution_count": 2,
   "metadata": {
    "vscode": {
     "languageId": "c++"
    }
   },
   "outputs": [],
   "source": [
    "const int MAXN = 5000;\n",
    "int root = 0, tot = 0;\n",
    "int v[MAXN], w[MAXN];\n",
    "int t[MAXN], s[MAXN];\n",
    "int lc[MAXN], rc[MAXN];\n",
    "int c[MAXN];"
   ]
  },
  {
   "attachments": {},
   "cell_type": "markdown",
   "metadata": {},
   "source": [
    "#### 插入节点"
   ]
  },
  {
   "cell_type": "code",
   "execution_count": 3,
   "metadata": {
    "vscode": {
     "languageId": "c++"
    }
   },
   "outputs": [],
   "source": [
    "int new_node(int _v)\n",
    "{\n",
    "    tot++;\n",
    "    v[tot] = _v;\n",
    "    w[tot] = rand();\n",
    "    c[tot] = s[tot] = 1;\n",
    "    lc[tot] = rc[tot] = 0;\n",
    "    return tot;\n",
    "}"
   ]
  },
  {
   "attachments": {},
   "cell_type": "markdown",
   "metadata": {},
   "source": [
    "不同处：第5行w赋值为随机数"
   ]
  },
  {
   "attachments": {},
   "cell_type": "markdown",
   "metadata": {},
   "source": [
    "#### 更新"
   ]
  },
  {
   "cell_type": "code",
   "execution_count": 4,
   "metadata": {
    "vscode": {
     "languageId": "c++"
    }
   },
   "outputs": [],
   "source": [
    "void update(int k)\n",
    "{\n",
    "    s[k] = s[lc[k]] + s[rc[k]] + c[k];\n",
    "}"
   ]
  },
  {
   "attachments": {},
   "cell_type": "markdown",
   "metadata": {},
   "source": [
    "#### 旋转"
   ]
  },
  {
   "attachments": {},
   "cell_type": "markdown",
   "metadata": {},
   "source": [
    "##### 左旋"
   ]
  },
  {
   "cell_type": "code",
   "execution_count": 5,
   "metadata": {
    "vscode": {
     "languageId": "c++"
    }
   },
   "outputs": [],
   "source": [
    "void lturn(int &k)\n",
    "{\n",
    "    int t = rc[k];\n",
    "    rc[k] = lc[t];\n",
    "    lc[t] = k;\n",
    "    s[t] = s[k];\n",
    "    update(k);\n",
    "    k = t;\n",
    "}"
   ]
  },
  {
   "attachments": {},
   "cell_type": "markdown",
   "metadata": {},
   "source": [
    "##### 右旋"
   ]
  },
  {
   "cell_type": "code",
   "execution_count": 6,
   "metadata": {
    "vscode": {
     "languageId": "c++"
    }
   },
   "outputs": [],
   "source": [
    "void rturn(int &k)\n",
    "{\n",
    "    int t = lc[k];\n",
    "    lc[k] = rc[t];\n",
    "    rc[t] = k;\n",
    "    s[t] = s[k];\n",
    "    update(k);\n",
    "    k = t;\n",
    "}"
   ]
  },
  {
   "attachments": {},
   "cell_type": "markdown",
   "metadata": {},
   "source": [
    "##### 插入"
   ]
  },
  {
   "cell_type": "code",
   "execution_count": 7,
   "metadata": {
    "vscode": {
     "languageId": "c++"
    }
   },
   "outputs": [],
   "source": [
    "void insert(int &k, int x)\n",
    "{\n",
    "    if (k == 0)\n",
    "    {\n",
    "        k = new_node(x);\n",
    "        return;\n",
    "    }\n",
    "    s[k]++;\n",
    "    if (v[k] == x)\n",
    "        c[k]++;\n",
    "    else if (v[k] < x)\n",
    "    {\n",
    "        insert(rc[k], x);\n",
    "        if (w[rc[k]] < w[k])\n",
    "            lturn(k);\n",
    "    }\n",
    "    else\n",
    "    {\n",
    "        insert(lc[k], x);\n",
    "        if (w[lc[k]] < w[k])\n",
    "            rturn(k);\n",
    "    }\n",
    "}"
   ]
  },
  {
   "attachments": {},
   "cell_type": "markdown",
   "metadata": {},
   "source": [
    "#### 删除"
   ]
  },
  {
   "cell_type": "code",
   "execution_count": 8,
   "metadata": {
    "vscode": {
     "languageId": "c++"
    }
   },
   "outputs": [],
   "source": [
    "void del(int &k, int x)\n",
    "{\n",
    "    if (k == 0)\n",
    "        return;\n",
    "    if (v[k] == x)\n",
    "    {\n",
    "        if (c[k] > 1)\n",
    "        {\n",
    "            c[k]--;\n",
    "            s[k]--;\n",
    "        }\n",
    "        else if (!lc[k] || !rc[k])\n",
    "            k = lc[k] + rc[k];\n",
    "        else\n",
    "        {\n",
    "            if (w[lc[k]] < w[rc[k]])\n",
    "                rturn(k);\n",
    "            else\n",
    "                lturn(k);\n",
    "            del(k, x);\n",
    "        }\n",
    "    }\n",
    "    else\n",
    "    {\n",
    "        s[k]--;\n",
    "        if (v[k] < x)\n",
    "            del(rc[k], x);\n",
    "        else\n",
    "            del(lc[k], x);\n",
    "    }\n",
    "}"
   ]
  },
  {
   "attachments": {},
   "cell_type": "markdown",
   "metadata": {},
   "source": [
    "#### 查询第k大"
   ]
  },
  {
   "cell_type": "code",
   "execution_count": 9,
   "metadata": {
    "vscode": {
     "languageId": "c++"
    }
   },
   "outputs": [],
   "source": [
    "int query_kth(int k, int x)\n",
    "{\n",
    "    if (k == 0)\n",
    "        return 0;\n",
    "    if (x <= s[lc[k]])\n",
    "        return query_kth(lc[k], x);\n",
    "    else if (x > s[lc[k]] + c[k])\n",
    "        return query_kth(rc[k], x - s[lc[k]] - c[k]);\n",
    "    else\n",
    "        return v[k];\n",
    "}"
   ]
  },
  {
   "attachments": {},
   "cell_type": "markdown",
   "metadata": {},
   "source": [
    "#### 查询前驱"
   ]
  },
  {
   "cell_type": "code",
   "execution_count": 11,
   "metadata": {
    "vscode": {
     "languageId": "c++"
    }
   },
   "outputs": [],
   "source": [
    "int ans;"
   ]
  },
  {
   "cell_type": "code",
   "execution_count": 12,
   "metadata": {
    "vscode": {
     "languageId": "c++"
    }
   },
   "outputs": [],
   "source": [
    "void query_pre(int k, int x)\n",
    "{\n",
    "    if (k == 0)\n",
    "        return;\n",
    "    if (v[k] < x)\n",
    "    {\n",
    "        ans = k;\n",
    "        query_pre(rc[k], x);\n",
    "    }\n",
    "    else\n",
    "        query_pre(lc[k], x);\n",
    "}"
   ]
  },
  {
   "attachments": {},
   "cell_type": "markdown",
   "metadata": {},
   "source": [
    "#### 查询后继"
   ]
  },
  {
   "cell_type": "code",
   "execution_count": 14,
   "metadata": {
    "vscode": {
     "languageId": "c++"
    }
   },
   "outputs": [],
   "source": [
    "void query_suc(int k, int x)\n",
    "{\n",
    "    if (k == 0)\n",
    "        return;\n",
    "    if (v[k] > x)\n",
    "    {\n",
    "        ans = k;\n",
    "        query_suc(lc[k], x);\n",
    "    }\n",
    "    else\n",
    "        query_suc(rc[k], x);\n",
    "}"
   ]
  }
 ],
 "metadata": {
  "kernelspec": {
   "display_name": "C++11",
   "language": "C++11",
   "name": "xcpp11"
  },
  "language_info": {
   "codemirror_mode": "text/x-c++src",
   "file_extension": ".cpp",
   "mimetype": "text/x-c++src",
   "name": "C++11",
   "version": "11"
  },
  "vscode": {
   "interpreter": {
    "hash": "916dbcbb3f70747c44a77c7bcd40155683ae19c65e1c03b4aa3499c5328201f1"
   }
  }
 },
 "nbformat": 4,
 "nbformat_minor": 2
}
