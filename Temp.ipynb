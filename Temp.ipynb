{
 "cells": [
  {
   "cell_type": "code",
   "execution_count": null,
   "metadata": {
    "vscode": {
     "languageId": "cpp"
    }
   },
   "outputs": [],
   "source": [
    "#include <bits/stdc++.h>\n",
    "using namespace std;\n",
    "typedef long long ll;\n",
    "typedef long double ld;\n",
    "typedef unsigned long long ull;"
   ]
  },
  {
   "attachments": {},
   "cell_type": "markdown",
   "metadata": {},
   "source": [
    "# Hello world 测试"
   ]
  },
  {
   "cell_type": "code",
   "execution_count": null,
   "metadata": {
    "vscode": {
     "languageId": "cpp"
    }
   },
   "outputs": [
    {
     "name": "stdout",
     "output_type": "stream",
     "text": [
      "Hello world\n"
     ]
    }
   ],
   "source": [
    "cout << \"Hello world\" << endl;"
   ]
  },
  {
   "attachments": {},
   "cell_type": "markdown",
   "metadata": {},
   "source": [
    "# log10\n",
    "`log10(x + 1)`可以计算`x`的位数"
   ]
  },
  {
   "cell_type": "code",
   "execution_count": null,
   "metadata": {
    "vscode": {
     "languageId": "cpp"
    }
   },
   "outputs": [
    {
     "name": "stdout",
     "output_type": "stream",
     "text": [
      "2\n"
     ]
    }
   ],
   "source": [
    "int n = 27;\n",
    "cout << ceil(log10(n + 1)) << endl;"
   ]
  },
  {
   "attachments": {},
   "cell_type": "markdown",
   "metadata": {},
   "source": [
    "# Repeat\n",
    "`Repeat`可以重复字符串"
   ]
  },
  {
   "cell_type": "code",
   "execution_count": null,
   "metadata": {
    "vscode": {
     "languageId": "cpp"
    }
   },
   "outputs": [],
   "source": [
    "string Repeat(string Data, int Times)\n",
    "{\n",
    "    string Output = \"\";\n",
    "    for (int i = 0; i < Times; i++)\n",
    "        Output += Data;\n",
    "    return Output;\n",
    "}"
   ]
  },
  {
   "cell_type": "code",
   "execution_count": null,
   "metadata": {
    "vscode": {
     "languageId": "cpp"
    }
   },
   "outputs": [
    {
     "name": "stdout",
     "output_type": "stream",
     "text": [
      "HelloHelloHelloHelloHello\n"
     ]
    }
   ],
   "source": [
    "cout << Repeat(\"Hello\", 5) << endl;"
   ]
  },
  {
   "attachments": {},
   "cell_type": "markdown",
   "metadata": {},
   "source": [
    "##  树"
   ]
  },
  {
   "cell_type": "code",
   "execution_count": 26,
   "metadata": {},
   "outputs": [],
   "source": [
    "#include <bits/stdc++.h>\n",
    "using namespace std;\n",
    "typedef long long ll;\n",
    "typedef long double ld;\n",
    "typedef unsigned long long ull;\n",
    "const int MAXN = 100;\n",
    "const int MAXLOG = 20;"
   ]
  },
  {
   "attachments": {},
   "cell_type": "markdown",
   "metadata": {},
   "source": [
    "### 树的存储"
   ]
  },
  {
   "attachments": {},
   "cell_type": "markdown",
   "metadata": {},
   "source": [
    "- 双亲表示法"
   ]
  },
  {
   "cell_type": "code",
   "execution_count": 27,
   "metadata": {},
   "outputs": [],
   "source": [
    "int fa[MAXN], hd[MAXN], to[MAXN], nxt[MAXN], tot, id, s[MAXN], e[MAXN], dfs_seq[MAXN], id2, euler_seq[MAXN], dep[MAXN], anc[MAXN][MAXLOG];"
   ]
  },
  {
   "cell_type": "code",
   "execution_count": 28,
   "metadata": {},
   "outputs": [],
   "source": [
    "void link(int father, int son) {\n",
    "    fa[son] = father;\n",
    "}"
   ]
  },
  {
   "attachments": {},
   "cell_type": "markdown",
   "metadata": {},
   "source": [
    "- 图存储法: 链式前向星"
   ]
  },
  {
   "cell_type": "code",
   "execution_count": 29,
   "metadata": {},
   "outputs": [],
   "source": [
    "void link(int father, int son) {\n",
    "    fa[son] = father;\n",
    "    ++tot;\n",
    "    to[tot] = son;\n",
    "    nxt[tot] = hd[father];\n",
    "    hd[father] = tot;\n",
    "}"
   ]
  },
  {
   "attachments": {},
   "cell_type": "markdown",
   "metadata": {},
   "source": [
    "#### 树的深度优先遍历"
   ]
  },
  {
   "cell_type": "code",
   "execution_count": 30,
   "metadata": {},
   "outputs": [],
   "source": [
    "void dfs(int x, int f) {\n",
    "    fa[x] = f;\n",
    "    dep[x] = dep[f] + 1;\n",
    "    s[x] = ++id;\n",
    "    dfs_seq[id] = x;\n",
    "    euler_seq[++id2] = x;\n",
    "    anc[x][0] = f;\n",
    "    for (int i = 1; i <= MAXLOG; ++i) \n",
    "        anc[x][i] = anc[anc[x][i - 1]][i - 1];\n",
    "    for (int i = hd[x]; i; i = nxt[i]) \n",
    "        if (to[i] != f) {\n",
    "            dfs(to[i], x);\n",
    "            euler_seq[++id2] = x;\n",
    "        }\n",
    "    e[x] = id;\n",
    "}"
   ]
  },
  {
   "attachments": {},
   "cell_type": "markdown",
   "metadata": {},
   "source": [
    "$e_x-s_x=sz_x$"
   ]
  },
  {
   "attachments": {},
   "cell_type": "markdown",
   "metadata": {},
   "source": [
    "#### 最近公共祖先 `LCA`"
   ]
  },
  {
   "attachments": {},
   "cell_type": "markdown",
   "metadata": {},
   "source": [
    "##### 朴素算法 $O(n)$"
   ]
  },
  {
   "cell_type": "code",
   "execution_count": 31,
   "metadata": {},
   "outputs": [],
   "source": [
    "int lca(int x, int y) {\n",
    "    while (x != y) {\n",
    "        if (dep[x] >= dep[y]) x = fa[x];\n",
    "        else y = fa[y];\n",
    "    }\n",
    "    return x;\n",
    "}"
   ]
  },
  {
   "attachments": {},
   "cell_type": "markdown",
   "metadata": {},
   "source": [
    "##### 倍增算法 $O(n\\log n)$"
   ]
  },
  {
   "cell_type": "code",
   "execution_count": 25,
   "metadata": {},
   "outputs": [],
   "source": [
    "int lca(int x, int y) {\n",
    "    if (dep[x] < dep[y]) swap(x, y);\n",
    "    for (int i = MAXLOG - 1; i >= 0; i--)\n",
    "        if (dep[anc[x][i]] >= dep[y]) \n",
    "            x = anc[x][i];\n",
    "    if (x == y) return x;\n",
    "    for (int i = MAXLOG - 1; i >= 0; i--)\n",
    "        if (anc[x][i] != anc[y][i])\n",
    "            x = anc[x][i], y = anc[y][i];\n",
    "    return anc[x][0];\n",
    "}"
   ]
  },
  {
   "attachments": {},
   "cell_type": "markdown",
   "metadata": {},
   "source": [
    "### 二叉平衡(搜索)树"
   ]
  },
  {
   "attachments": {},
   "cell_type": "markdown",
   "metadata": {},
   "source": [
    "### Treap"
   ]
  },
  {
   "attachments": {},
   "cell_type": "markdown",
   "metadata": {},
   "source": [
    "- `v` 值\n",
    "- `w` 权重——随机数\n",
    "- `t` 相同的值的数量\n",
    "- `s` 子树的数字总数\n",
    "- `lc` 左子树下标\n",
    "- `rc` 右子树下标"
   ]
  },
  {
   "cell_type": "code",
   "execution_count": 2,
   "metadata": {},
   "outputs": [],
   "source": [
    "const int MAXN = 5000;\n",
    "int root = 0, tot = 0;\n",
    "int v[MAXN], w[MAXN];\n",
    "int t[MAXN], s[MAXN];\n",
    "int lc[MAXN], rc[MAXN];\n",
    "int c[MAXN];"
   ]
  },
  {
   "attachments": {},
   "cell_type": "markdown",
   "metadata": {},
   "source": [
    "#### 插入节点"
   ]
  },
  {
   "cell_type": "code",
   "execution_count": 3,
   "metadata": {},
   "outputs": [],
   "source": [
    "int new_node(int _v)\n",
    "{\n",
    "    tot++;\n",
    "    v[tot] = _v;\n",
    "    w[tot] = rand();\n",
    "    c[tot] = s[tot] = 1;\n",
    "    lc[tot] = rc[tot] = 0;\n",
    "    return tot;\n",
    "}"
   ]
  },
  {
   "attachments": {},
   "cell_type": "markdown",
   "metadata": {},
   "source": [
    "不同处：第5行w赋值为随机数"
   ]
  },
  {
   "attachments": {},
   "cell_type": "markdown",
   "metadata": {},
   "source": [
    "#### 更新"
   ]
  },
  {
   "cell_type": "code",
   "execution_count": 4,
   "metadata": {},
   "outputs": [],
   "source": [
    "void update(int k)\n",
    "{\n",
    "    s[k] = s[lc[k]] + s[rc[k]] + c[k];\n",
    "}"
   ]
  },
  {
   "attachments": {},
   "cell_type": "markdown",
   "metadata": {},
   "source": [
    "#### 旋转"
   ]
  },
  {
   "attachments": {},
   "cell_type": "markdown",
   "metadata": {},
   "source": [
    "##### 左旋"
   ]
  },
  {
   "cell_type": "code",
   "execution_count": 5,
   "metadata": {},
   "outputs": [],
   "source": [
    "void lturn(int &k)\n",
    "{\n",
    "    int t = rc[k];\n",
    "    rc[k] = lc[t];\n",
    "    lc[t] = k;\n",
    "    s[t] = s[k];\n",
    "    update(k);\n",
    "    k = t;\n",
    "}"
   ]
  },
  {
   "attachments": {},
   "cell_type": "markdown",
   "metadata": {},
   "source": [
    "##### 右旋"
   ]
  },
  {
   "cell_type": "code",
   "execution_count": 6,
   "metadata": {},
   "outputs": [],
   "source": [
    "void rturn(int &k)\n",
    "{\n",
    "    int t = lc[k];\n",
    "    lc[k] = rc[t];\n",
    "    rc[t] = k;\n",
    "    s[t] = s[k];\n",
    "    update(k);\n",
    "    k = t;\n",
    "}"
   ]
  },
  {
   "attachments": {},
   "cell_type": "markdown",
   "metadata": {},
   "source": [
    "##### 插入"
   ]
  },
  {
   "cell_type": "code",
   "execution_count": 7,
   "metadata": {},
   "outputs": [],
   "source": [
    "void insert(int &k, int x)\n",
    "{\n",
    "    if (k == 0)\n",
    "    {\n",
    "        k = new_node(x);\n",
    "        return;\n",
    "    }\n",
    "    s[k]++;\n",
    "    if (v[k] == x)\n",
    "        c[k]++;\n",
    "    else if (v[k] < x)\n",
    "    {\n",
    "        insert(rc[k], x);\n",
    "        if (w[rc[k]] < w[k])\n",
    "            lturn(k);\n",
    "    }\n",
    "    else\n",
    "    {\n",
    "        insert(lc[k], x);\n",
    "        if (w[lc[k]] < w[k])\n",
    "            rturn(k);\n",
    "    }\n",
    "}"
   ]
  },
  {
   "attachments": {},
   "cell_type": "markdown",
   "metadata": {},
   "source": [
    "#### 删除"
   ]
  },
  {
   "cell_type": "code",
   "execution_count": 8,
   "metadata": {},
   "outputs": [],
   "source": [
    "void del(int &k, int x)\n",
    "{\n",
    "    if (k == 0)\n",
    "        return;\n",
    "    if (v[k] == x)\n",
    "    {\n",
    "        if (c[k] > 1)\n",
    "        {\n",
    "            c[k]--;\n",
    "            s[k]--;\n",
    "        }\n",
    "        else if (!lc[k] || !rc[k])\n",
    "            k = lc[k] + rc[k];\n",
    "        else\n",
    "        {\n",
    "            if (w[lc[k]] < w[rc[k]])\n",
    "                rturn(k);\n",
    "            else\n",
    "                lturn(k);\n",
    "            del(k, x);\n",
    "        }\n",
    "    }\n",
    "    else\n",
    "    {\n",
    "        s[k]--;\n",
    "        if (v[k] < x)\n",
    "            del(rc[k], x);\n",
    "        else\n",
    "            del(lc[k], x);\n",
    "    }\n",
    "}"
   ]
  },
  {
   "attachments": {},
   "cell_type": "markdown",
   "metadata": {},
   "source": [
    "#### 查询第k大"
   ]
  },
  {
   "cell_type": "code",
   "execution_count": 9,
   "metadata": {},
   "outputs": [],
   "source": [
    "int query_kth(int k, int x)\n",
    "{\n",
    "    if (k == 0)\n",
    "        return 0;\n",
    "    if (x <= s[lc[k]])\n",
    "        return query_kth(lc[k], x);\n",
    "    else if (x > s[lc[k]] + c[k])\n",
    "        return query_kth(rc[k], x - s[lc[k]] - c[k]);\n",
    "    else\n",
    "        return v[k];\n",
    "}"
   ]
  },
  {
   "attachments": {},
   "cell_type": "markdown",
   "metadata": {},
   "source": [
    "#### 查询前驱"
   ]
  },
  {
   "cell_type": "code",
   "execution_count": 11,
   "metadata": {},
   "outputs": [],
   "source": [
    "int ans;"
   ]
  },
  {
   "cell_type": "code",
   "execution_count": 12,
   "metadata": {},
   "outputs": [],
   "source": [
    "void query_pre(int k, int x)\n",
    "{\n",
    "    if (k == 0)\n",
    "        return;\n",
    "    if (v[k] < x)\n",
    "    {\n",
    "        ans = k;\n",
    "        query_pre(rc[k], x);\n",
    "    }\n",
    "    else\n",
    "        query_pre(lc[k], x);\n",
    "}"
   ]
  },
  {
   "attachments": {},
   "cell_type": "markdown",
   "metadata": {},
   "source": [
    "#### 查询后继"
   ]
  },
  {
   "cell_type": "code",
   "execution_count": 14,
   "metadata": {},
   "outputs": [],
   "source": [
    "void query_suc(int k, int x)\n",
    "{\n",
    "    if (k == 0)\n",
    "        return;\n",
    "    if (v[k] > x)\n",
    "    {\n",
    "        ans = k;\n",
    "        query_suc(lc[k], x);\n",
    "    }\n",
    "    else\n",
    "        query_suc(rc[k], x);\n",
    "}"
   ]
  },
  {
   "attachments": {},
   "cell_type": "markdown",
   "metadata": {},
   "source": [
    "# C++14新特性"
   ]
  },
  {
   "cell_type": "code",
   "execution_count": 4,
   "metadata": {},
   "outputs": [],
   "source": [
    "#include <bits/stdc++.h>\n",
    "using namespace std;"
   ]
  },
  {
   "cell_type": "code",
   "execution_count": 8,
   "metadata": {},
   "outputs": [],
   "source": [
    "pair<int, int> a = {1, 2};"
   ]
  },
  {
   "cell_type": "code",
   "execution_count": 1,
   "metadata": {},
   "outputs": [
    {
     "name": "stderr",
     "output_type": "stream",
     "text": [
      "input_line_7:2:7: warning: decomposition declarations are a C++17 extension [-Wc++17-extensions]\n",
      " auto [x, y] = a;\n",
      "      ^~~~~~\n",
      "input_line_7:2:16: error: use of undeclared identifier 'a'\n",
      " auto [x, y] = a;\n",
      "               ^\n",
      "input_line_7:3:1: error: use of undeclared identifier 'cout'\n",
      "cout << x << \" \" << y << endl;\n",
      "^\n",
      "input_line_7:3:26: error: use of undeclared identifier 'endl'; did you mean 'std::endl'?\n",
      "cout << x << \" \" << y << endl;\n",
      "                         ^~~~\n",
      "                         std::endl\n",
      "/home/langningc2009/miniconda3/envs/cling/bin/../lib/gcc/../../x86_64-conda-linux-gnu/include/c++/9.4.0/ostream:599:5: note: 'std::endl' declared here\n",
      "    endl(basic_ostream<_CharT, _Traits>& __os)\n",
      "    ^\n"
     ]
    },
    {
     "ename": "Interpreter Error",
     "evalue": "",
     "output_type": "error",
     "traceback": [
      "Interpreter Error: "
     ]
    }
   ],
   "source": [
    "auto [x, y] = a;\n",
    "cout << x << \" \" << y << endl;"
   ]
  },
  {
   "cell_type": "code",
   "execution_count": 18,
   "metadata": {},
   "outputs": [],
   "source": [
    "bool cmp(int x, int y)\n",
    "{\n",
    "    return x > y;\n",
    "}\n",
    "bool cmp2(int x, int y)\n",
    "{\n",
    "    return x < y;\n",
    "}"
   ]
  },
  {
   "cell_type": "code",
   "execution_count": 22,
   "metadata": {},
   "outputs": [
    {
     "name": "stdout",
     "output_type": "stream",
     "text": [
      "5 4 3 2 1 \n"
     ]
    }
   ],
   "source": [
    "int a[5] = {3, 5, 2, 4, 1};\n",
    "sort(a, a + 5, cmp);\n",
    "sort(a, a + 5, [](int x, int y) { return x > y; });\n",
    "for (auto i : a) cout << i << \" \";\n",
    "cout << endl;"
   ]
  },
  {
   "cell_type": "code",
   "execution_count": 23,
   "metadata": {},
   "outputs": [
    {
     "name": "stderr",
     "output_type": "stream",
     "text": [
      "input_line_30:7:6: warning: decomposition declarations are a C++17 extension [-Wc++17-extensions]\n",
      "auto [x, y] = a;\n",
      "     ^~~~~~\n",
      "input_line_30:7:6: error: type 'int [5]' decomposes into 5 elements, but only 2 names were provided\n"
     ]
    },
    {
     "ename": "Interpreter Error",
     "evalue": "",
     "output_type": "error",
     "traceback": [
      "Interpreter Error: "
     ]
    }
   ],
   "source": [
    "// C++17 新特性\n",
    "// 1. 常量表达式\n",
    "constexpr int Temp1 = 1;\n",
    "const int Temp2 = 1;\n",
    "// 2. 结构化绑定\n",
    "auto [x, y] = a;\n",
    "// 3. if constexpr\n",
    "if constexpr (sizeof(int) == 4) {\n",
    "    // ...\n",
    "}\n",
    "// 4. 折叠表达式\n",
    "template <typename... T>\n",
    "auto sum(T... args) {\n",
    "    return (args + ...);\n",
    "}\n",
    "// 5. lambda 表达式的 init-capture\n",
    "int x = 1;\n",
    "auto f = [y = x + 1]() { return y * y; };\n",
    "// 6. constexpr if\n",
    "template <typename T>\n",
    "void f(T t) {\n",
    "    if constexpr (is_integral_v<T>) {\n",
    "        // ...\n",
    "    } else {\n",
    "        // ...\n",
    "    }\n",
    "}\n",
    "// 7. 变量模板\n",
    "template <typename T>\n",
    "constexpr T pi = T(3.1415926535897932385L);\n",
    "// 8. 类模板的模板参数推导\n",
    "template <typename T>\n",
    "struct A {\n",
    "    A(T t) {}\n",
    "};\n",
    "A a(1); // C++17 之前需要 A<int> a(1);\n"
   ]
  },
  {
   "cell_type": "code",
   "execution_count": 25,
   "metadata": {},
   "outputs": [
    {
     "name": "stderr",
     "output_type": "stream",
     "text": [
      "input_line_32:4:1: error: use of class template 'pair' requires template arguments\n",
      "pair a = {1, 2};\n",
      "^\n",
      "/home/langningc2009/miniconda3/envs/cling/bin/../lib/gcc/../../x86_64-conda-linux-gnu/include/c++/9.4.0/bits/stl_pair.h:193:56: note: template is declared here\n",
      "    template<typename _T1, typename _T2> friend struct pair;\n",
      "    ~~~~~~~~~~~~~~~~~~~~~~~~~~~~~~~~~~~~               ^\n"
     ]
    },
    {
     "ename": "Interpreter Error",
     "evalue": "",
     "output_type": "error",
     "traceback": [
      "Interpreter Error: "
     ]
    }
   ],
   "source": [
    "pair<int, int> a = {1, 2};\n",
    "// 17\n",
    "pair a = {1, 2};"
   ]
  },
  {
   "attachments": {},
   "cell_type": "markdown",
   "metadata": {},
   "source": [
    "#  面积并"
   ]
  },
  {
   "cell_type": "code",
   "execution_count": 6,
   "metadata": {},
   "outputs": [],
   "source": [
    "#define lson (x << 1)\n",
    "#define rson (x << 1 | 1)\n",
    "const int MAXN = 100005;\n",
    "int sum[MAXN << 2], len[MAXN << 1];"
   ]
  },
  {
   "cell_type": "code",
   "execution_count": 8,
   "metadata": {},
   "outputs": [],
   "source": [
    "int X[MAXN], Y[MAXN];"
   ]
  },
  {
   "cell_type": "code",
   "execution_count": 9,
   "metadata": {},
   "outputs": [],
   "source": [
    "void pushup(int x, int l, int r)\n",
    "{\n",
    "    if (sum[x])\n",
    "        len[x] = X[r + 1] - X[l];\n",
    "    else if (l == r)\n",
    "        len[x] = 0;\n",
    "    else\n",
    "        len[x] = len[x << 1] + len[x << 1 | 1];\n",
    "}"
   ]
  },
  {
   "cell_type": "code",
   "execution_count": 10,
   "metadata": {},
   "outputs": [],
   "source": [
    "void update(int x, int l, int r, int L, int R, int c)\n",
    "{\n",
    "    if (X[r + 1] <= L || R <= X[l])\n",
    "        return;\n",
    "    if (L <= X[l] && X[r + 1] <= R)\n",
    "    {\n",
    "        sum[x] += c;\n",
    "        pushup(x, l, r);\n",
    "        return;\n",
    "    }\n",
    "    int mid = (l + r) >> 1;\n",
    "    update(lson, l, mid, L, R, c);\n",
    "    update(rson, mid + 1, r, L, R, c);\n",
    "    pushup(x, l, r);\n",
    "}"
   ]
  },
  {
   "cell_type": "code",
   "execution_count": 15,
   "metadata": {},
   "outputs": [],
   "source": [
    "int n;\n",
    "struct\n",
    "{\n",
    "    double x, y1, y2;\n",
    "    int c;\n",
    "} line[MAXN];"
   ]
  },
  {
   "cell_type": "code",
   "execution_count": 16,
   "metadata": {},
   "outputs": [
    {
     "name": "stderr",
     "output_type": "stream",
     "text": [
      "input_line_22:7:24: error: non-constant-expression cannot be narrowed from type 'int' to 'double' in initializer list [-Wc++11-narrowing]\n",
      "    line[2 * i - 1] = {x1, y1, y2, 1};\n",
      "                       ^~\n",
      "input_line_22:7:24: note: insert an explicit cast to silence this issue\n",
      "    line[2 * i - 1] = {x1, y1, y2, 1};\n",
      "                       ^~\n",
      "                       static_cast<double>( )\n",
      "input_line_22:7:28: error: non-constant-expression cannot be narrowed from type 'int' to 'double' in initializer list [-Wc++11-narrowing]\n",
      "    line[2 * i - 1] = {x1, y1, y2, 1};\n",
      "                           ^~\n",
      "input_line_22:7:28: note: insert an explicit cast to silence this issue\n",
      "    line[2 * i - 1] = {x1, y1, y2, 1};\n",
      "                           ^~\n",
      "                           static_cast<double>( )\n",
      "input_line_22:7:32: error: non-constant-expression cannot be narrowed from type 'int' to 'double' in initializer list [-Wc++11-narrowing]\n",
      "    line[2 * i - 1] = {x1, y1, y2, 1};\n",
      "                               ^~\n",
      "input_line_22:7:32: note: insert an explicit cast to silence this issue\n",
      "    line[2 * i - 1] = {x1, y1, y2, 1};\n",
      "                               ^~\n",
      "                               static_cast<double>( )\n",
      "input_line_22:8:20: error: non-constant-expression cannot be narrowed from type 'int' to 'double' in initializer list [-Wc++11-narrowing]\n",
      "    line[2 * i] = {x2, y1, y2, -1};\n",
      "                   ^~\n",
      "input_line_22:8:20: note: insert an explicit cast to silence this issue\n",
      "    line[2 * i] = {x2, y1, y2, -1};\n",
      "                   ^~\n",
      "                   static_cast<double>( )\n",
      "input_line_22:8:24: error: non-constant-expression cannot be narrowed from type 'int' to 'double' in initializer list [-Wc++11-narrowing]\n",
      "    line[2 * i] = {x2, y1, y2, -1};\n",
      "                       ^~\n",
      "input_line_22:8:24: note: insert an explicit cast to silence this issue\n",
      "    line[2 * i] = {x2, y1, y2, -1};\n",
      "                       ^~\n",
      "                       static_cast<double>( )\n",
      "input_line_22:8:28: error: non-constant-expression cannot be narrowed from type 'int' to 'double' in initializer list [-Wc++11-narrowing]\n",
      "    line[2 * i] = {x2, y1, y2, -1};\n",
      "                           ^~\n",
      "input_line_22:8:28: note: insert an explicit cast to silence this issue\n",
      "    line[2 * i] = {x2, y1, y2, -1};\n",
      "                           ^~\n",
      "                           static_cast<double>( )\n",
      "input_line_22:11:1: error: use of undeclared identifier 'sort'\n",
      "sort(line + 1, line + n + 1);\n",
      "^\n",
      "input_line_22:12:1: error: use of undeclared identifier 'sort'\n",
      "sort(X + 1, X + n + 1);\n",
      "^\n",
      "input_line_22:13:1: error: use of undeclared identifier 'tot'\n",
      "tot = unique(X + 1, X + n + 1) - X - 1;\n",
      "^\n",
      "input_line_22:13:7: error: use of undeclared identifier 'unique'\n",
      "tot = unique(X + 1, X + n + 1) - X - 1;\n",
      "      ^\n",
      "input_line_22:16:18: error: use of undeclared identifier 'tot'\n",
      "    update(1, 1, tot - 1, line[i].l, line[i].r, line[i].mark);\n",
      "                 ^\n",
      "input_line_22:16:35: error: no member named 'l' in '(anonymous struct at input_line_21:3:1)'\n",
      "    update(1, 1, tot - 1, line[i].l, line[i].r, line[i].mark);\n",
      "                          ~~~~~~~ ^\n",
      "input_line_22:16:46: error: no member named 'r' in '(anonymous struct at input_line_21:3:1)'\n",
      "    update(1, 1, tot - 1, line[i].l, line[i].r, line[i].mark);\n",
      "                                     ~~~~~~~ ^\n",
      "input_line_22:16:57: error: no member named 'mark' in '(anonymous struct at input_line_21:3:1)'\n",
      "    update(1, 1, tot - 1, line[i].l, line[i].r, line[i].mark);\n",
      "                                                ~~~~~~~ ^\n",
      "input_line_22:17:5: error: use of undeclared identifier 'ans'\n",
      "    ans += 1ll * len[i] * (line[i + 1].h - line[i].h);\n",
      "    ^\n",
      "input_line_22:17:40: error: no member named 'h' in '(anonymous struct at input_line_21:3:1)'\n",
      "    ans += 1ll * len[i] * (line[i + 1].h - line[i].h);\n",
      "                           ~~~~~~~~~~~ ^\n",
      "input_line_22:17:52: error: no member named 'h' in '(anonymous struct at input_line_21:3:1)'\n",
      "    ans += 1ll * len[i] * (line[i + 1].h - line[i].h);\n",
      "                                           ~~~~~~~ ^\n",
      "input_line_22:19:18: error: use of undeclared identifier 'ans'\n",
      "printf(\"%lld\\n\", ans);\n",
      "                 ^\n"
     ]
    },
    {
     "ename": "Interpreter Error",
     "evalue": "",
     "output_type": "error",
     "traceback": [
      "Interpreter Error: "
     ]
    }
   ],
   "source": [
    "scanf(\"%d\", &n);\n",
    "for (int i = 1, x1, y1, x2, y2; i <= n; i++)\n",
    "{\n",
    "    scanf(\"%d%d%d%d\", &x1, &y1, &x2, &y2);\n",
    "    X[2 * i - 1] = x1, X[2 * i] = x2;\n",
    "    line[2 * i - 1] = {x1, y1, y2, 1};\n",
    "    line[2 * i] = {x2, y1, y2, -1};\n",
    "}\n",
    "n <<= 1;\n",
    "sort(line + 1, line + n + 1);\n",
    "sort(X + 1, X + n + 1);\n",
    "tot = unique(X + 1, X + n + 1) - X - 1;\n",
    "for (int i = 1; i <= n; i++)\n",
    "{\n",
    "    update(1, 1, tot - 1, line[i].l, line[i].r, line[i].mark);\n",
    "    ans += 1ll * len[i] * (line[i + 1].h - line[i].h);\n",
    "}\n",
    "printf(\"%lld\\n\", ans);"
   ]
  }
 ],
 "metadata": {
  "kernelspec": {
   "display_name": "C++14",
   "language": "C++14",
   "name": "xcpp14"
  },
  "language_info": {
   "codemirror_mode": "text/x-c++src",
   "file_extension": ".cpp",
   "mimetype": "text/x-c++src",
   "name": "c++",
   "version": "14"
  },
  "vscode": {
   "interpreter": {
    "hash": "916dbcbb3f70747c44a77c7bcd40155683ae19c65e1c03b4aa3499c5328201f1"
   }
  }
 },
 "nbformat": 4,
 "nbformat_minor": 2
}
