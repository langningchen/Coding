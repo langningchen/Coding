{
 "cells": [
  {
   "cell_type": "code",
   "execution_count": null,
   "metadata": {
    "vscode": {
     "languageId": "cpp"
    }
   },
   "outputs": [],
   "source": [
    "#include <bits/stdc++.h>\n",
    "using namespace std;\n",
    "typedef long long ll;\n",
    "typedef long double ld;\n",
    "typedef unsigned long long ull;"
   ]
  },
  {
   "cell_type": "markdown",
   "metadata": {},
   "source": [
    "# Hello world 测试"
   ]
  },
  {
   "cell_type": "code",
   "execution_count": null,
   "metadata": {
    "vscode": {
     "languageId": "cpp"
    }
   },
   "outputs": [
    {
     "name": "stdout",
     "output_type": "stream",
     "text": [
      "Hello world\n"
     ]
    }
   ],
   "source": [
    "cout << \"Hello world\" << endl;"
   ]
  },
  {
   "cell_type": "markdown",
   "metadata": {},
   "source": [
    "# log10\n",
    "`log10(x + 1)`可以计算`x`的位数"
   ]
  },
  {
   "cell_type": "code",
   "execution_count": null,
   "metadata": {
    "vscode": {
     "languageId": "cpp"
    }
   },
   "outputs": [
    {
     "name": "stdout",
     "output_type": "stream",
     "text": [
      "2\n"
     ]
    }
   ],
   "source": [
    "int n = 27;\n",
    "cout << ceil(log10(n + 1)) << endl;"
   ]
  },
  {
   "cell_type": "markdown",
   "metadata": {},
   "source": [
    "# Repeat\n",
    "`Repeat`可以重复字符串"
   ]
  },
  {
   "cell_type": "code",
   "execution_count": null,
   "metadata": {
    "vscode": {
     "languageId": "cpp"
    }
   },
   "outputs": [],
   "source": [
    "string Repeat(string Data, int Times)\n",
    "{\n",
    "    string Output = \"\";\n",
    "    for (int i = 0; i < Times; i++)\n",
    "        Output += Data;\n",
    "    return Output;\n",
    "}"
   ]
  },
  {
   "cell_type": "code",
   "execution_count": null,
   "metadata": {
    "vscode": {
     "languageId": "cpp"
    }
   },
   "outputs": [
    {
     "name": "stdout",
     "output_type": "stream",
     "text": [
      "HelloHelloHelloHelloHello\n"
     ]
    }
   ],
   "source": [
    "cout << Repeat(\"Hello\", 5) << endl;"
   ]
  },
  {
   "attachments": {},
   "cell_type": "markdown",
   "metadata": {},
   "source": [
    "##  树"
   ]
  },
  {
   "cell_type": "code",
   "execution_count": 26,
   "metadata": {
    "vscode": {
     "languageId": "c++"
    }
   },
   "outputs": [],
   "source": [
    "#include <bits/stdc++.h>\n",
    "using namespace std;\n",
    "typedef long long ll;\n",
    "typedef long double ld;\n",
    "typedef unsigned long long ull;\n",
    "const int MAXN = 100;\n",
    "const int MAXLOG = 20;"
   ]
  },
  {
   "attachments": {},
   "cell_type": "markdown",
   "metadata": {},
   "source": [
    "### 树的存储"
   ]
  },
  {
   "attachments": {},
   "cell_type": "markdown",
   "metadata": {},
   "source": [
    "- 双亲表示法"
   ]
  },
  {
   "cell_type": "code",
   "execution_count": 27,
   "metadata": {
    "vscode": {
     "languageId": "c++"
    }
   },
   "outputs": [],
   "source": [
    "int fa[MAXN], hd[MAXN], to[MAXN], nxt[MAXN], tot, id, s[MAXN], e[MAXN], dfs_seq[MAXN], id2, euler_seq[MAXN], dep[MAXN], anc[MAXN][MAXLOG];"
   ]
  },
  {
   "cell_type": "code",
   "execution_count": 28,
   "metadata": {
    "vscode": {
     "languageId": "c++"
    }
   },
   "outputs": [],
   "source": [
    "void link(int father, int son) {\n",
    "    fa[son] = father;\n",
    "}"
   ]
  },
  {
   "attachments": {},
   "cell_type": "markdown",
   "metadata": {},
   "source": [
    "- 图存储法: 链式前向星"
   ]
  },
  {
   "cell_type": "code",
   "execution_count": 29,
   "metadata": {
    "vscode": {
     "languageId": "c++"
    }
   },
   "outputs": [],
   "source": [
    "void link(int father, int son) {\n",
    "    fa[son] = father;\n",
    "    ++tot;\n",
    "    to[tot] = son;\n",
    "    nxt[tot] = hd[father];\n",
    "    hd[father] = tot;\n",
    "}"
   ]
  },
  {
   "attachments": {},
   "cell_type": "markdown",
   "metadata": {},
   "source": [
    "#### 树的深度优先遍历"
   ]
  },
  {
   "cell_type": "code",
   "execution_count": 30,
   "metadata": {
    "vscode": {
     "languageId": "c++"
    }
   },
   "outputs": [],
   "source": [
    "void dfs(int x, int f) {\n",
    "    fa[x] = f;\n",
    "    dep[x] = dep[f] + 1;\n",
    "    s[x] = ++id;\n",
    "    dfs_seq[id] = x;\n",
    "    euler_seq[++id2] = x;\n",
    "    anc[x][0] = f;\n",
    "    for (int i = 1; i <= MAXLOG; ++i) \n",
    "        anc[x][i] = anc[anc[x][i - 1]][i - 1];\n",
    "    for (int i = hd[x]; i; i = nxt[i]) \n",
    "        if (to[i] != f) {\n",
    "            dfs(to[i], x);\n",
    "            euler_seq[++id2] = x;\n",
    "        }\n",
    "    e[x] = id;\n",
    "}"
   ]
  },
  {
   "attachments": {},
   "cell_type": "markdown",
   "metadata": {},
   "source": [
    "$e_x-s_x=sz_x$"
   ]
  },
  {
   "attachments": {},
   "cell_type": "markdown",
   "metadata": {},
   "source": [
    "#### 最近公共祖先 `LCA`"
   ]
  },
  {
   "attachments": {},
   "cell_type": "markdown",
   "metadata": {},
   "source": [
    "##### 朴素算法 $O(n)$"
   ]
  },
  {
   "cell_type": "code",
   "execution_count": 31,
   "metadata": {
    "vscode": {
     "languageId": "c++"
    }
   },
   "outputs": [],
   "source": [
    "int lca(int x, int y) {\n",
    "    while (x != y) {\n",
    "        if (dep[x] >= dep[y]) x = fa[x];\n",
    "        else y = fa[y];\n",
    "    }\n",
    "    return x;\n",
    "}"
   ]
  },
  {
   "attachments": {},
   "cell_type": "markdown",
   "metadata": {},
   "source": [
    "##### 倍增算法 $O(n\\log n)$"
   ]
  },
  {
   "cell_type": "code",
   "execution_count": 25,
   "metadata": {
    "vscode": {
     "languageId": "c++"
    }
   },
   "outputs": [],
   "source": [
    "int lca(int x, int y) {\n",
    "    if (dep[x] < dep[y]) swap(x, y);\n",
    "    for (int i = MAXLOG - 1; i >= 0; i--)\n",
    "        if (dep[anc[x][i]] >= dep[y]) \n",
    "            x = anc[x][i];\n",
    "    if (x == y) return x;\n",
    "    for (int i = MAXLOG - 1; i >= 0; i--)\n",
    "        if (anc[x][i] != anc[y][i])\n",
    "            x = anc[x][i], y = anc[y][i];\n",
    "    return anc[x][0];\n",
    "}"
   ]
  }
 ],
 "metadata": {
  "kernelspec": {
   "display_name": "C++11",
   "language": "C++11",
   "name": "xcpp11"
  },
  "language_info": {
   "codemirror_mode": "text/x-c++src",
   "file_extension": ".cpp",
   "mimetype": "text/x-c++src",
   "name": "C++11",
   "version": "11"
  },
  "vscode": {
   "interpreter": {
    "hash": "916dbcbb3f70747c44a77c7bcd40155683ae19c65e1c03b4aa3499c5328201f1"
   }
  }
 },
 "nbformat": 4,
 "nbformat_minor": 2
}
